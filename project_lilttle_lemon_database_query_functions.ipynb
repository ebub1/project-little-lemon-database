{
 "cells": [
  {
   "cell_type": "markdown",
   "metadata": {},
   "source": [
    "TASK 1.\n",
    "You are tasked with extending the environment to connect with your database and interact with the data it holds"
   ]
  },
  {
   "cell_type": "code",
   "execution_count": 34,
   "metadata": {},
   "outputs": [
    {
     "name": "stdout",
     "output_type": "stream",
     "text": [
      "Successfully Connected to project_little_lemon_db database\n"
     ]
    }
   ],
   "source": [
    "import mysql.connector as conn\n",
    "user_name = 'admin'\n",
    "password = 'little_lemon'\n",
    "db = 'project_little_lemon_db'\n",
    "try:\n",
    "    connection = conn.connect(username =user_name,password =password, database =db)\n",
    "    print(f\"Successfully Connected to {db} database\")\n",
    "except conn.Error as e:\n",
    "    print(e.errno)"
   ]
  },
  {
   "cell_type": "code",
   "execution_count": 35,
   "metadata": {},
   "outputs": [
    {
     "name": "stdout",
     "output_type": "stream",
     "text": [
      "Cursor object is created\n"
     ]
    }
   ],
   "source": [
    "cursor = connection.cursor()\n",
    "print(\"Cursor object is created\")"
   ]
  },
  {
   "cell_type": "markdown",
   "metadata": {},
   "source": [
    "TASK 2.\n",
    "You now need to query the database to show all tables within the database."
   ]
  },
  {
   "cell_type": "code",
   "execution_count": 36,
   "metadata": {},
   "outputs": [
    {
     "name": "stdout",
     "output_type": "stream",
     "text": [
      "  Tables_in_project_little_lemon_db\n",
      "0                         addresses\n",
      "1                          bookings\n",
      "2                         customers\n",
      "3                          delivery\n",
      "4                         employees\n",
      "5                              menu\n",
      "6                         menuitems\n",
      "7                       newbookings\n",
      "8                            orders\n",
      "9                        ordersview\n"
     ]
    }
   ],
   "source": [
    "#import pandas module\n",
    "import pandas as pd\n",
    "\n",
    "show_tables_query = \"SHOW tables\" \n",
    "cursor.execute(show_tables_query)\n",
    "results = pd.DataFrame(cursor.fetchall())\n",
    "results.columns = cursor.column_names\n",
    "print(results)"
   ]
  },
  {
   "cell_type": "markdown",
   "metadata": {},
   "source": [
    "TASK 3.\n",
    "Little Lemon need you to return specific details from your database. They require the full name and contact details for every customer that has placed an order greater than $60 for a promotional campaign. "
   ]
  },
  {
   "cell_type": "code",
   "execution_count": 37,
   "metadata": {},
   "outputs": [
    {
     "name": "stdout",
     "output_type": "stream",
     "text": [
      "       FullName  ContuctNumber                     Email\n",
      "0    John Smith      123456790    john.smith@example.com\n",
      "1      Jane Doe      987654321      jane.doe@example.com\n",
      "2  Robert Davis       44455666  robert.davis@example.com\n",
      "3     David Lee       99988877     david.lee@example.com\n"
     ]
    }
   ],
   "source": [
    "query=\"\"\"SELECT c.FullName, c.ContuctNumber, c.Email\n",
    "FROM \n",
    "orders o INNER JOIN bookings b ON b.BookingID=o.BookingID\n",
    "INNER JOIN customers c ON c.CustomerID = b.CustomerID\n",
    "WHERE BillAmount > 60\"\"\"\n",
    "cursor.execute(query)\n",
    "results = pd.DataFrame(cursor.fetchall())\n",
    "results.columns = cursor.column_names\n",
    "print(results)"
   ]
  },
  {
   "cell_type": "code",
   "execution_count": 38,
   "metadata": {},
   "outputs": [
    {
     "name": "stdout",
     "output_type": "stream",
     "text": [
      "The cursor is closed.\n",
      "MySQL connection <mysql.connector.connection.MySQLConnection object at 0x000001A4158BE6B0> is closed.\n"
     ]
    }
   ],
   "source": [
    "#Close connection\n",
    "if connection.is_connected():\n",
    "    cursor.close()\n",
    "    print(\"The cursor is closed.\")\n",
    "    connection.close()\n",
    "    print(f\"MySQL connection {connection} is closed.\")\n",
    "else:\n",
    "    print(\"Connection is already closed\")"
   ]
  },
  {
   "cell_type": "code",
   "execution_count": null,
   "metadata": {},
   "outputs": [],
   "source": []
  }
 ],
 "metadata": {
  "interpreter": {
   "hash": "c6e4e9f98eb68ad3b7c296f83d20e6de614cb42e90992a65aa266555a3137d0d"
  },
  "kernelspec": {
   "display_name": "Python 3 (ipykernel)",
   "language": "python",
   "name": "python3"
  },
  "language_info": {
   "codemirror_mode": {
    "name": "ipython",
    "version": 3
   },
   "file_extension": ".py",
   "mimetype": "text/x-python",
   "name": "python",
   "nbconvert_exporter": "python",
   "pygments_lexer": "ipython3",
   "version": "3.10.11"
  }
 },
 "nbformat": 4,
 "nbformat_minor": 2
}
